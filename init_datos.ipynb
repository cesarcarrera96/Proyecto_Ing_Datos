{
 "cells": [
  {
   "cell_type": "code",
   "execution_count": 22,
   "id": "578cb2a6",
   "metadata": {},
   "outputs": [],
   "source": [
    "import mysql.connector\n",
    "from faker import Faker\n",
    "import random\n",
    "import csv\n",
    "from datetime import date, timedelta"
   ]
  },
  {
   "cell_type": "code",
   "execution_count": 14,
   "id": "734f637d",
   "metadata": {},
   "outputs": [],
   "source": [
    "\n",
    "# Configura tu conexión\n",
    "conn = mysql.connector.connect(user=\"admin_cc\", password=\"test1234!\", \n",
    "                               host=\"database-mysql-proyecto.mysql.database.azure.com\", \n",
    "                               port=3306, database=\"database\")\n",
    "\n",
    "cursor = conn.cursor()\n",
    "fake = Faker()\n",
    "\n",
    "# Crear tabla\n",
    "cursor.execute(\"\"\"\n",
    "CREATE TABLE IF NOT EXISTS pacientes (\n",
    "    id INT AUTO_INCREMENT PRIMARY KEY,\n",
    "    nombre VARCHAR(100),\n",
    "    edad INT,\n",
    "    genero VARCHAR(10),\n",
    "    fecha_registro DATE\n",
    ")\n",
    "\"\"\")\n",
    "\n",
    "# Insertar 1000 registros sintéticos\n",
    "for _ in range(1000):\n",
    "    cursor.execute(\"\"\"\n",
    "        INSERT INTO pacientes (nombre, edad, genero, fecha_registro)\n",
    "        VALUES (%s, %s, %s, %s)\n",
    "    \"\"\", (\n",
    "        fake.name(),\n",
    "        random.randint(18, 80),\n",
    "        random.choice([\"M\", \"F\"]),\n",
    "        fake.date_between(start_date='-2y', end_date='today')\n",
    "    ))\n",
    "\n",
    "conn.commit()\n",
    "cursor.close()\n",
    "conn.close()\n"
   ]
  },
  {
   "cell_type": "code",
   "execution_count": 24,
   "id": "d601f818",
   "metadata": {},
   "outputs": [
    {
     "name": "stdout",
     "output_type": "stream",
     "text": [
      "Total de registros: 1000\n",
      "(1, 'Jennifer Kramer', 29, 'F', datetime.date(2024, 5, 20))\n",
      "(2, 'Ebony Wilson', 59, 'M', datetime.date(2025, 8, 30))\n",
      "(3, 'Gregory Powell', 47, 'F', datetime.date(2025, 8, 12))\n",
      "(4, 'Timothy Brown', 31, 'M', datetime.date(2024, 6, 2))\n",
      "(5, 'Kimberly Gillespie', 54, 'M', datetime.date(2024, 6, 10))\n"
     ]
    }
   ],
   "source": [
    "conn = mysql.connector.connect(user=\"admin_cc\", password=\"test1234!\", \n",
    "                               host=\"database-mysql-proyecto.mysql.database.azure.com\", \n",
    "                               port=3306, database=\"database\")\n",
    "\n",
    "cursor = conn.cursor()\n",
    "\n",
    "# Contar registros\n",
    "cursor.execute(\"SELECT COUNT(*) FROM pacientes;\")\n",
    "print(\"Total de registros:\", cursor.fetchone()[0])\n",
    "\n",
    "# Mostrar los primeros 5 registros\n",
    "cursor.execute(\"SELECT * FROM pacientes LIMIT 5;\")\n",
    "for row in cursor.fetchall():\n",
    "    print(row)\n",
    "\n",
    "cursor.close()\n",
    "conn.close()"
   ]
  },
  {
   "cell_type": "code",
   "execution_count": 21,
   "id": "020624a4",
   "metadata": {},
   "outputs": [
    {
     "name": "stdout",
     "output_type": "stream",
     "text": [
      "500 registros insertados correctamente en la tabla clientes.\n",
      "Total registros en clientes: 500\n"
     ]
    }
   ],
   "source": [
    "# Configura tu conexión\n",
    "conn = mysql.connector.connect(user=\"admin_cc\", password=\"test1234!\", \n",
    "                               host=\"database-mysql-proyecto.mysql.database.azure.com\", \n",
    "                               port=3306, database=\"database\")\n",
    "\n",
    "try:\n",
    "    cursor = conn.cursor()\n",
    "\n",
    "    # Crear tabla clientes si no existe\n",
    "    cursor.execute(\"\"\"\n",
    "    CREATE TABLE IF NOT EXISTS clientes (\n",
    "        id INT AUTO_INCREMENT PRIMARY KEY,\n",
    "        nombre_cliente VARCHAR(150),\n",
    "        tipo_cliente VARCHAR(50),\n",
    "        ciudad VARCHAR(100),\n",
    "        pais VARCHAR(200),\n",
    "        fecha_registro DATE\n",
    "    )\n",
    "    \"\"\")\n",
    "    conn.commit()\n",
    "\n",
    "    # Insertar 500 registros sintéticos\n",
    "    for _ in range(500):\n",
    "        cursor.execute(\"\"\"\n",
    "            INSERT INTO clientes (nombre_cliente, tipo_cliente, ciudad, pais, fecha_registro)\n",
    "            VALUES (%s, %s, %s, %s, %s)\n",
    "        \"\"\", (\n",
    "            fake.company(),\n",
    "            random.choice([\"Hospital\", \"Farmacia\", \"Distribuidor\", \"Clínica\"]),\n",
    "            fake.city(),\n",
    "            fake.country(),\n",
    "            fake.date_between(start_date='-3y', end_date='today')\n",
    "        ))\n",
    "\n",
    "    conn.commit()\n",
    "    print(\"500 registros insertados correctamente en la tabla clientes.\")\n",
    "\n",
    "    # Verificar inserción\n",
    "    cursor.execute(\"SELECT COUNT(*) FROM clientes\")\n",
    "    total = cursor.fetchone()[0]\n",
    "    print(f\"Total registros en clientes: {total}\")\n",
    "\n",
    "finally:\n",
    "    if cursor:\n",
    "        cursor.close()\n",
    "    if conn:\n",
    "        conn.close()"
   ]
  },
  {
   "cell_type": "code",
   "execution_count": 23,
   "id": "4f85d940",
   "metadata": {},
   "outputs": [
    {
     "name": "stdout",
     "output_type": "stream",
     "text": [
      "Archivo CSV generado: ventas_historicas.csv con 5000 registros históricos\n"
     ]
    }
   ],
   "source": [
    "\n",
    "fake = Faker()\n",
    "\n",
    "# Configuración\n",
    "NUM_REGISTROS = 5000  \n",
    "NUM_CLIENTES = 500   \n",
    "NUM_PACIENTES = 1000 \n",
    "\n",
    "# Generar listas de IDs válidos\n",
    "cliente_ids = list(range(1, NUM_CLIENTES + 1))\n",
    "paciente_ids = list(range(1, NUM_PACIENTES + 1))\n",
    "\n",
    "# Nombre del archivo CSV\n",
    "csv_file = \"ventas_historicas.csv\"\n",
    "\n",
    "with open(csv_file, mode=\"w\", newline=\"\", encoding=\"utf-8\") as file:\n",
    "    writer = csv.writer(file)\n",
    "    \n",
    "    # Encabezados\n",
    "    writer.writerow([\"venta_id\", \"cliente_id\", \"paciente_id\", \"producto\", \"cantidad\", \"fecha_venta\"])\n",
    "    \n",
    "    for venta_id in range(1, NUM_REGISTROS + 1):\n",
    "        cliente_id = random.choice(cliente_ids) \n",
    "        paciente_id = random.choice(paciente_ids) \n",
    "        producto = fake.word().capitalize()\n",
    "        cantidad = random.randint(1, 5)\n",
    "        fecha_venta = fake.date_between(start_date='-3y', end_date='today')\n",
    "        \n",
    "        writer.writerow([venta_id, cliente_id, paciente_id, producto, cantidad, fecha_venta])\n",
    "\n",
    "print(f\"Archivo CSV generado: {csv_file} con {NUM_REGISTROS} registros históricos\")\n"
   ]
  },
  {
   "cell_type": "code",
   "execution_count": null,
   "id": "3a67cc09",
   "metadata": {},
   "outputs": [],
   "source": []
  }
 ],
 "metadata": {
  "kernelspec": {
   "display_name": "Python 3",
   "language": "python",
   "name": "python3"
  },
  "language_info": {
   "codemirror_mode": {
    "name": "ipython",
    "version": 3
   },
   "file_extension": ".py",
   "mimetype": "text/x-python",
   "name": "python",
   "nbconvert_exporter": "python",
   "pygments_lexer": "ipython3",
   "version": "3.11.9"
  }
 },
 "nbformat": 4,
 "nbformat_minor": 5
}
